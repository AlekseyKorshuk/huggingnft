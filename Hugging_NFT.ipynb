{
 "cells": [
  {
   "cell_type": "code",
   "execution_count": 1,
   "metadata": {
    "colab": {
     "base_uri": "https://localhost:8080/"
    },
    "id": "LPDToYBJRgTR",
    "outputId": "492c902b-97a3-4c31-dfaf-687736fe2a49"
   },
   "outputs": [
    {
     "name": "stdout",
     "output_type": "stream",
     "text": [
      "Looking in indexes: https://pypi.org/simple, https://pypi.ngc.nvidia.com\r\n",
      "Collecting huggingface-hub\r\n",
      "  Downloading huggingface_hub-0.5.1-py3-none-any.whl (77 kB)\r\n",
      "\u001B[K     |████████████████████████████████| 77 kB 20.8 MB/s eta 0:00:01\r\n",
      "\u001B[?25hRequirement already satisfied: pyyaml in /opt/conda/lib/python3.8/site-packages (from huggingface-hub) (5.4.1)\r\n",
      "Requirement already satisfied: filelock in /opt/conda/lib/python3.8/site-packages (from huggingface-hub) (3.4.2)\r\n",
      "Requirement already satisfied: packaging>=20.9 in /opt/conda/lib/python3.8/site-packages (from huggingface-hub) (21.3)\r\n",
      "Requirement already satisfied: typing-extensions>=3.7.4.3 in /opt/conda/lib/python3.8/site-packages (from huggingface-hub) (4.0.1)\r\n",
      "Requirement already satisfied: tqdm in /opt/conda/lib/python3.8/site-packages (from huggingface-hub) (4.62.3)\r\n",
      "Requirement already satisfied: requests in /opt/conda/lib/python3.8/site-packages (from huggingface-hub) (2.26.0)\r\n",
      "Requirement already satisfied: pyparsing!=3.0.5,>=2.0.2 in /opt/conda/lib/python3.8/site-packages (from packaging>=20.9->huggingface-hub) (3.0.7)\r\n",
      "Requirement already satisfied: idna<4,>=2.5 in /opt/conda/lib/python3.8/site-packages (from requests->huggingface-hub) (3.1)\r\n",
      "Requirement already satisfied: charset-normalizer~=2.0.0 in /opt/conda/lib/python3.8/site-packages (from requests->huggingface-hub) (2.0.9)\r\n",
      "Requirement already satisfied: urllib3<1.27,>=1.21.1 in /opt/conda/lib/python3.8/site-packages (from requests->huggingface-hub) (1.26.7)\r\n",
      "Requirement already satisfied: certifi>=2017.4.17 in /opt/conda/lib/python3.8/site-packages (from requests->huggingface-hub) (2021.10.8)\r\n",
      "Installing collected packages: huggingface-hub\r\n",
      "Successfully installed huggingface-hub-0.5.1\r\n",
      "\u001B[33mWARNING: Running pip as the 'root' user can result in broken permissions and conflicting behaviour with the system package manager. It is recommended to use a virtual environment instead: https://pip.pypa.io/warnings/venv\u001B[0m\r\n"
     ]
    }
   ],
   "source": [
    "!pip install huggingface-hub"
   ]
  },
  {
   "cell_type": "code",
   "execution_count": 2,
   "metadata": {
    "colab": {
     "base_uri": "https://localhost:8080/"
    },
    "id": "WTfraN29SSdZ",
    "outputId": "bd1f2f67-ca26-44f1-ae03-afcbfc6b0e60"
   },
   "outputs": [
    {
     "name": "stderr",
     "output_type": "stream",
     "text": [
      "/opt/conda/lib/python3.8/site-packages/huggingface_hub/hf_api.py:507: FutureWarning: HfApi.login: This method is deprecated in favor of `set_access_token` and will be removed in v0.7.\n",
      "  warnings.warn(\n"
     ]
    }
   ],
   "source": [
    "from huggingface_hub.hf_api import HfApi\n",
    "hfapi = HfApi()\n",
    "user, namespace = 'huggingnft-app', 'huggingNFT2022'\n",
    "token = hfapi.login(user, namespace)\n",
    "assert hfapi.whoami(token)['name'] == user, \"Could not log into Hugging Face\"\n",
    "!mkdir /root/.huggingface -p\n",
    "text_file = open(\"/root/.huggingface/token\", \"w+\")\n",
    "text_file.write(token)\n",
    "text_file.close() \n"
   ]
  },
  {
   "cell_type": "code",
   "execution_count": 3,
   "metadata": {},
   "outputs": [],
   "source": [
    "!git config --global user.email \"ale-kor02@mail.ru\"\n",
    "!git config --global user.name \"Aleksey Korshuk\""
   ]
  },
  {
   "cell_type": "code",
   "execution_count": 4,
   "metadata": {
    "colab": {
     "base_uri": "https://localhost:8080/"
    },
    "id": "7FCbE55AV6z6",
    "outputId": "4ac25d16-b214-495c-e881-572bf7cb9e96"
   },
   "outputs": [
    {
     "name": "stdout",
     "output_type": "stream",
     "text": [
      "[Errno 2] No such file or directory: '/content'\n",
      "/notebooks\n",
      "Cloning into 'huggingnft'...\r\n",
      "remote: Enumerating objects: 37, done.\u001B[K\r\n",
      "remote: Counting objects: 100% (37/37), done.\u001B[K\r\n",
      "remote: Compressing objects: 100% (26/26), done.\u001B[K\r\n",
      "remote: Total 37 (delta 14), reused 23 (delta 7), pack-reused 0\u001B[K\r\n",
      "Unpacking objects: 100% (37/37), 10.72 KiB | 59.00 KiB/s, done.\r\n",
      "/notebooks/huggingnft\n"
     ]
    }
   ],
   "source": [
    "%cd /content\n",
    "!rm -rf huggingnft\n",
    "!git clone https://github.com/AlekseyKorshuk/huggingnft\n",
    "%cd huggingnft\n",
    "# !rm -rf .git"
   ]
  },
  {
   "cell_type": "code",
   "execution_count": 5,
   "metadata": {
    "colab": {
     "base_uri": "https://localhost:8080/"
    },
    "id": "I0ZZtZDjXJm0",
    "outputId": "21e1677b-5dfb-4e60-af23-e6e7f081e3ef"
   },
   "outputs": [
    {
     "name": "stdout",
     "output_type": "stream",
     "text": [
      "Looking in indexes: https://pypi.org/simple, https://pypi.ngc.nvidia.com\r\n",
      "Collecting aiohttp\r\n",
      "  Downloading aiohttp-3.8.1-cp38-cp38-manylinux_2_5_x86_64.manylinux1_x86_64.manylinux_2_12_x86_64.manylinux2010_x86_64.whl (1.3 MB)\r\n",
      "\u001B[K     |████████████████████████████████| 1.3 MB 15.0 MB/s eta 0:00:01\r\n",
      "\u001B[?25hCollecting aiofiles\r\n",
      "  Downloading aiofiles-0.8.0-py3-none-any.whl (13 kB)\r\n",
      "Collecting datasets\r\n",
      "  Downloading datasets-2.0.0-py3-none-any.whl (325 kB)\r\n",
      "\u001B[K     |████████████████████████████████| 325 kB 29.4 MB/s eta 0:00:01\r\n",
      "\u001B[?25hCollecting asyncio\r\n",
      "  Downloading asyncio-3.4.3-py3-none-any.whl (101 kB)\r\n",
      "\u001B[K     |████████████████████████████████| 101 kB 30.2 MB/s ta 0:00:01\r\n",
      "\u001B[?25hRequirement already satisfied: requests in /opt/conda/lib/python3.8/site-packages (from -r requirements.txt (line 5)) (2.26.0)\r\n",
      "Collecting frozenlist>=1.1.1\r\n",
      "  Downloading frozenlist-1.3.0-cp38-cp38-manylinux_2_5_x86_64.manylinux1_x86_64.manylinux_2_17_x86_64.manylinux2014_x86_64.whl (158 kB)\r\n",
      "\u001B[K     |████████████████████████████████| 158 kB 30.0 MB/s eta 0:00:01\r\n",
      "\u001B[?25hRequirement already satisfied: charset-normalizer<3.0,>=2.0 in /opt/conda/lib/python3.8/site-packages (from aiohttp->-r requirements.txt (line 1)) (2.0.9)\r\n",
      "Collecting aiosignal>=1.1.2\r\n",
      "  Downloading aiosignal-1.2.0-py3-none-any.whl (8.2 kB)\r\n",
      "Requirement already satisfied: attrs>=17.3.0 in /opt/conda/lib/python3.8/site-packages (from aiohttp->-r requirements.txt (line 1)) (18.2.0)\r\n",
      "Requirement already satisfied: yarl<2.0,>=1.0 in /opt/conda/lib/python3.8/site-packages (from aiohttp->-r requirements.txt (line 1)) (1.7.2)\r\n",
      "Requirement already satisfied: multidict<7.0,>=4.5 in /opt/conda/lib/python3.8/site-packages (from aiohttp->-r requirements.txt (line 1)) (6.0.2)\r\n",
      "Collecting async-timeout<5.0,>=4.0.0a3\r\n",
      "  Downloading async_timeout-4.0.2-py3-none-any.whl (5.8 kB)\r\n",
      "Requirement already satisfied: pandas in /opt/conda/lib/python3.8/site-packages (from datasets->-r requirements.txt (line 3)) (1.3.5)\r\n",
      "Requirement already satisfied: numpy>=1.17 in /opt/conda/lib/python3.8/site-packages (from datasets->-r requirements.txt (line 3)) (1.22.2)\r\n",
      "Requirement already satisfied: tqdm>=4.62.1 in /opt/conda/lib/python3.8/site-packages (from datasets->-r requirements.txt (line 3)) (4.62.3)\r\n",
      "Requirement already satisfied: packaging in /opt/conda/lib/python3.8/site-packages (from datasets->-r requirements.txt (line 3)) (21.3)\r\n",
      "Requirement already satisfied: fsspec[http]>=2021.05.0 in /opt/conda/lib/python3.8/site-packages (from datasets->-r requirements.txt (line 3)) (2022.1.0)\r\n",
      "Collecting xxhash\r\n",
      "  Downloading xxhash-3.0.0-cp38-cp38-manylinux_2_17_x86_64.manylinux2014_x86_64.whl (212 kB)\r\n",
      "\u001B[K     |████████████████████████████████| 212 kB 31.1 MB/s eta 0:00:01\r\n",
      "\u001B[?25hRequirement already satisfied: huggingface-hub<1.0.0,>=0.1.0 in /opt/conda/lib/python3.8/site-packages (from datasets->-r requirements.txt (line 3)) (0.5.1)\r\n",
      "Requirement already satisfied: pyarrow>=5.0.0 in /opt/conda/lib/python3.8/site-packages (from datasets->-r requirements.txt (line 3)) (5.0.0)\r\n",
      "Collecting dill\r\n",
      "  Downloading dill-0.3.4-py2.py3-none-any.whl (86 kB)\r\n",
      "\u001B[K     |████████████████████████████████| 86 kB 33.3 MB/s eta 0:00:01\r\n",
      "\u001B[?25hCollecting responses<0.19\r\n",
      "  Downloading responses-0.18.0-py3-none-any.whl (38 kB)\r\n",
      "Collecting multiprocess\r\n",
      "  Downloading multiprocess-0.70.12.2-py38-none-any.whl (128 kB)\r\n",
      "\u001B[K     |████████████████████████████████| 128 kB 30.7 MB/s eta 0:00:01\r\n",
      "\u001B[?25hRequirement already satisfied: certifi>=2017.4.17 in /opt/conda/lib/python3.8/site-packages (from requests->-r requirements.txt (line 5)) (2021.10.8)\r\n",
      "Requirement already satisfied: idna<4,>=2.5 in /opt/conda/lib/python3.8/site-packages (from requests->-r requirements.txt (line 5)) (3.1)\r\n",
      "Requirement already satisfied: urllib3<1.27,>=1.21.1 in /opt/conda/lib/python3.8/site-packages (from requests->-r requirements.txt (line 5)) (1.26.7)\r\n",
      "Requirement already satisfied: pyyaml in /opt/conda/lib/python3.8/site-packages (from huggingface-hub<1.0.0,>=0.1.0->datasets->-r requirements.txt (line 3)) (5.4.1)\r\n",
      "Requirement already satisfied: filelock in /opt/conda/lib/python3.8/site-packages (from huggingface-hub<1.0.0,>=0.1.0->datasets->-r requirements.txt (line 3)) (3.4.2)\r\n",
      "Requirement already satisfied: typing-extensions>=3.7.4.3 in /opt/conda/lib/python3.8/site-packages (from huggingface-hub<1.0.0,>=0.1.0->datasets->-r requirements.txt (line 3)) (4.0.1)\r\n",
      "Requirement already satisfied: pyparsing!=3.0.5,>=2.0.2 in /opt/conda/lib/python3.8/site-packages (from packaging->datasets->-r requirements.txt (line 3)) (3.0.7)\r\n",
      "Requirement already satisfied: pytz>=2017.3 in /opt/conda/lib/python3.8/site-packages (from pandas->datasets->-r requirements.txt (line 3)) (2021.3)\r\n",
      "Requirement already satisfied: python-dateutil>=2.7.3 in /opt/conda/lib/python3.8/site-packages (from pandas->datasets->-r requirements.txt (line 3)) (2.8.2)\r\n",
      "Requirement already satisfied: six>=1.5 in /opt/conda/lib/python3.8/site-packages (from python-dateutil>=2.7.3->pandas->datasets->-r requirements.txt (line 3)) (1.16.0)\r\n",
      "Installing collected packages: frozenlist, async-timeout, aiosignal, dill, aiohttp, xxhash, responses, multiprocess, datasets, asyncio, aiofiles\r\n",
      "Successfully installed aiofiles-0.8.0 aiohttp-3.8.1 aiosignal-1.2.0 async-timeout-4.0.2 asyncio-3.4.3 datasets-2.0.0 dill-0.3.4 frozenlist-1.3.0 multiprocess-0.70.12.2 responses-0.18.0 xxhash-3.0.0\r\n",
      "\u001B[33mWARNING: Running pip as the 'root' user can result in broken permissions and conflicting behaviour with the system package manager. It is recommended to use a virtual environment instead: https://pip.pypa.io/warnings/venv\u001B[0m\r\n"
     ]
    }
   ],
   "source": [
    "!pip install -r requirements.txt"
   ]
  },
  {
   "cell_type": "code",
   "execution_count": 6,
   "metadata": {
    "id": "Hq2ELvRDP7go"
   },
   "outputs": [],
   "source": [
    "import os\n",
    "import requests\n",
    "\n",
    "\n",
    "def add_readme(username):\n",
    "    !git clone https://huggingface.co/datasets/huggingnft/$username\n",
    "    %cd {username}\n",
    "    response = requests.get(\"https://raw.githubusercontent.com/AlekseyKorshuk/huggingnft/main/cards/DATASET_README.md\")\n",
    "    readme_text = str(response.text).replace(\"USERNAME\", \"dooggies\")\n",
    "    with open(\"README.md\", \"w+\") as f:\n",
    "        f.write(readme_text)\n",
    "    !git add .\n",
    "    !git commit -m \"README.md\"\n",
    "    !git push\n",
    "    %cd ..\n",
    "    !rm -rf $username"
   ]
  },
  {
   "cell_type": "code",
   "execution_count": 7,
   "metadata": {
    "colab": {
     "base_uri": "https://localhost:8080/"
    },
    "id": "t7WafLO7WFrn",
    "outputId": "688fbbb0-f680-408c-d17a-68963e53f92f"
   },
   "outputs": [
    {
     "name": "stdout",
     "output_type": "stream",
     "text": [
      "/notebooks/huggingnft\n",
      "Traceback (most recent call last):\r\n",
      "  File \"collect_dataset.py\", line 103, in <module>\r\n",
      "    main(args)\r\n",
      "  File \"collect_dataset.py\", line 60, in main\r\n",
      "    collection = parse_collection(args.collection_name)\r\n",
      "  File \"collect_dataset.py\", line 23, in parse_collection\r\n",
      "    result = response.json()\r\n",
      "  File \"/opt/conda/lib/python3.8/site-packages/requests/models.py\", line 910, in json\r\n",
      "    return complexjson.loads(self.text, **kwargs)\r\n",
      "  File \"/opt/conda/lib/python3.8/json/__init__.py\", line 357, in loads\r\n",
      "    return _default_decoder.decode(s)\r\n",
      "  File \"/opt/conda/lib/python3.8/json/decoder.py\", line 337, in decode\r\n",
      "    obj, end = self.raw_decode(s, idx=_w(s, 0).end())\r\n",
      "  File \"/opt/conda/lib/python3.8/json/decoder.py\", line 355, in raw_decode\r\n",
      "    raise JSONDecodeError(\"Expecting value\", s, err.value) from None\r\n",
      "json.decoder.JSONDecodeError: Expecting value: line 1 column 1 (char 0)\r\n",
      "Cloning into 'collection_name'...\r\n",
      "remote: Repository not found.\r\n",
      "fatal: repository 'https://huggingface.co/datasets/huggingnft/collection_name/' not found\r\n",
      "[Errno 2] No such file or directory: 'collection_name'\n",
      "/notebooks/huggingnft\n",
      "On branch main\r\n",
      "Your branch is up to date with 'origin/main'.\r\n",
      "\r\n",
      "nothing to commit, working tree clean\r\n",
      "Username for 'https://github.com': ^C\r\n",
      "/notebooks\n"
     ]
    }
   ],
   "source": [
    "#@title Parse dataset\n",
    "collection_name = \"cryptopunks\" #@param {type:\"string\"}\n",
    "%cd /notebooks/huggingnft\n",
    "\n",
    "!rm -rf images\n",
    "!python collect_dataset.py --collection_name $collection_name\n",
    "add_readme(\"collection_name\")"
   ]
  },
  {
   "cell_type": "code",
   "execution_count": null,
   "metadata": {},
   "outputs": [],
   "source": []
  }
 ],
 "metadata": {
  "colab": {
   "collapsed_sections": [],
   "name": "Hugging NFT",
   "provenance": []
  },
  "kernelspec": {
   "display_name": "Python 3 (ipykernel)",
   "language": "python",
   "name": "python3"
  },
  "language_info": {
   "codemirror_mode": {
    "name": "ipython",
    "version": 3
   },
   "file_extension": ".py",
   "mimetype": "text/x-python",
   "name": "python",
   "nbconvert_exporter": "python",
   "pygments_lexer": "ipython3",
   "version": "3.9.10"
  }
 },
 "nbformat": 4,
 "nbformat_minor": 1
}