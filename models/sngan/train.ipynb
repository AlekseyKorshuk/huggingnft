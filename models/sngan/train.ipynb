{
 "cells": [
  {
   "cell_type": "code",
   "execution_count": 37,
   "id": "dc6dd01a-e6f6-4ea5-928a-6d3d463ecc65",
   "metadata": {
    "execution": {
     "iopub.execute_input": "2022-04-10T10:30:29.515493Z",
     "iopub.status.busy": "2022-04-10T10:30:29.514895Z",
     "iopub.status.idle": "2022-04-10T10:30:32.540723Z",
     "shell.execute_reply": "2022-04-10T10:30:32.540006Z",
     "shell.execute_reply.started": "2022-04-10T10:30:29.515462Z"
    }
   },
   "outputs": [
    {
     "name": "stdout",
     "output_type": "stream",
     "text": [
      "/notebooks\n",
      "Cloning into 'huggingnft'...\n",
      "remote: Enumerating objects: 68, done.\u001B[K\n",
      "remote: Counting objects: 100% (68/68), done.\u001B[K\n",
      "remote: Compressing objects: 100% (49/49), done.\u001B[K\n",
      "remote: Total 68 (delta 26), reused 50 (delta 15), pack-reused 0\u001B[K\n",
      "Unpacking objects: 100% (68/68), 28.07 KiB | 109.00 KiB/s, done.\n"
     ]
    }
   ],
   "source": [
    "!rm -rf huggingnft\n",
    "!git clone https://github.com/AlekseyKorshuk/huggingnft\n",
    "%cd huggingnft"
   ]
  },
  {
   "cell_type": "code",
   "execution_count": 39,
   "id": "d9988182-095b-4d52-8ffe-7c3da5ad1bfc",
   "metadata": {
    "execution": {
     "iopub.execute_input": "2022-04-10T10:30:32.548155Z",
     "iopub.status.busy": "2022-04-10T10:30:32.547989Z",
     "iopub.status.idle": "2022-04-10T10:30:35.917046Z",
     "shell.execute_reply": "2022-04-10T10:30:35.916360Z",
     "shell.execute_reply.started": "2022-04-10T10:30:32.548135Z"
    }
   },
   "outputs": [
    {
     "name": "stdout",
     "output_type": "stream",
     "text": [
      "Looking in indexes: https://pypi.org/simple, https://pypi.ngc.nvidia.com\n",
      "Requirement already satisfied: aiohttp in /opt/conda/lib/python3.8/site-packages (from -r requirements.txt (line 1)) (3.8.1)\n",
      "Requirement already satisfied: aiofiles in /opt/conda/lib/python3.8/site-packages (from -r requirements.txt (line 2)) (0.8.0)\n",
      "Requirement already satisfied: datasets in /opt/conda/lib/python3.8/site-packages (from -r requirements.txt (line 3)) (2.0.0)\n",
      "Requirement already satisfied: asyncio in /opt/conda/lib/python3.8/site-packages (from -r requirements.txt (line 4)) (3.4.3)\n",
      "Requirement already satisfied: requests in /opt/conda/lib/python3.8/site-packages (from -r requirements.txt (line 5)) (2.26.0)\n",
      "Requirement already satisfied: torch in /opt/conda/lib/python3.8/site-packages (from -r requirements.txt (line 6)) (1.11.0a0+17540c5)\n",
      "Requirement already satisfied: torchvision in /opt/conda/lib/python3.8/site-packages (from -r requirements.txt (line 7)) (0.12.0a0)\n",
      "Requirement already satisfied: selenium in /opt/conda/lib/python3.8/site-packages (from -r requirements.txt (line 8)) (4.1.3)\n",
      "Requirement already satisfied: accelerate in /opt/conda/lib/python3.8/site-packages (from -r requirements.txt (line 9)) (0.6.2)\n",
      "Requirement already satisfied: wandb in /opt/conda/lib/python3.8/site-packages (from -r requirements.txt (line 10)) (0.12.14)\n",
      "Requirement already satisfied: huggingface-hub in /opt/conda/lib/python3.8/site-packages (from -r requirements.txt (line 11)) (0.5.1)\n",
      "Requirement already satisfied: async-timeout<5.0,>=4.0.0a3 in /opt/conda/lib/python3.8/site-packages (from aiohttp->-r requirements.txt (line 1)) (4.0.2)\n",
      "Requirement already satisfied: frozenlist>=1.1.1 in /opt/conda/lib/python3.8/site-packages (from aiohttp->-r requirements.txt (line 1)) (1.3.0)\n",
      "Requirement already satisfied: multidict<7.0,>=4.5 in /opt/conda/lib/python3.8/site-packages (from aiohttp->-r requirements.txt (line 1)) (6.0.2)\n",
      "Requirement already satisfied: attrs>=17.3.0 in /opt/conda/lib/python3.8/site-packages (from aiohttp->-r requirements.txt (line 1)) (21.4.0)\n",
      "Requirement already satisfied: aiosignal>=1.1.2 in /opt/conda/lib/python3.8/site-packages (from aiohttp->-r requirements.txt (line 1)) (1.2.0)\n",
      "Requirement already satisfied: charset-normalizer<3.0,>=2.0 in /opt/conda/lib/python3.8/site-packages (from aiohttp->-r requirements.txt (line 1)) (2.0.9)\n",
      "Requirement already satisfied: yarl<2.0,>=1.0 in /opt/conda/lib/python3.8/site-packages (from aiohttp->-r requirements.txt (line 1)) (1.7.2)\n",
      "Requirement already satisfied: responses<0.19 in /opt/conda/lib/python3.8/site-packages (from datasets->-r requirements.txt (line 3)) (0.18.0)\n",
      "Requirement already satisfied: xxhash in /opt/conda/lib/python3.8/site-packages (from datasets->-r requirements.txt (line 3)) (3.0.0)\n",
      "Requirement already satisfied: pyarrow>=5.0.0 in /opt/conda/lib/python3.8/site-packages (from datasets->-r requirements.txt (line 3)) (5.0.0)\n",
      "Requirement already satisfied: multiprocess in /opt/conda/lib/python3.8/site-packages (from datasets->-r requirements.txt (line 3)) (0.70.12.2)\n",
      "Requirement already satisfied: packaging in /opt/conda/lib/python3.8/site-packages (from datasets->-r requirements.txt (line 3)) (21.3)\n",
      "Requirement already satisfied: dill in /opt/conda/lib/python3.8/site-packages (from datasets->-r requirements.txt (line 3)) (0.3.4)\n",
      "Requirement already satisfied: fsspec[http]>=2021.05.0 in /opt/conda/lib/python3.8/site-packages (from datasets->-r requirements.txt (line 3)) (2022.1.0)\n",
      "Requirement already satisfied: pandas in /opt/conda/lib/python3.8/site-packages (from datasets->-r requirements.txt (line 3)) (1.3.5)\n",
      "Requirement already satisfied: numpy>=1.17 in /opt/conda/lib/python3.8/site-packages (from datasets->-r requirements.txt (line 3)) (1.22.2)\n",
      "Requirement already satisfied: tqdm>=4.62.1 in /opt/conda/lib/python3.8/site-packages (from datasets->-r requirements.txt (line 3)) (4.62.3)\n",
      "Requirement already satisfied: idna<4,>=2.5 in /opt/conda/lib/python3.8/site-packages (from requests->-r requirements.txt (line 5)) (3.1)\n",
      "Requirement already satisfied: urllib3<1.27,>=1.21.1 in /opt/conda/lib/python3.8/site-packages (from requests->-r requirements.txt (line 5)) (1.26.7)\n",
      "Requirement already satisfied: certifi>=2017.4.17 in /opt/conda/lib/python3.8/site-packages (from requests->-r requirements.txt (line 5)) (2021.10.8)\n",
      "Requirement already satisfied: typing_extensions in /opt/conda/lib/python3.8/site-packages (from torch->-r requirements.txt (line 6)) (4.0.1)\n",
      "Requirement already satisfied: pillow!=8.3.*,>=5.3.0 in /opt/conda/lib/python3.8/site-packages (from torchvision->-r requirements.txt (line 7)) (9.0.0)\n",
      "Requirement already satisfied: trio~=0.17 in /opt/conda/lib/python3.8/site-packages (from selenium->-r requirements.txt (line 8)) (0.20.0)\n",
      "Requirement already satisfied: trio-websocket~=0.9 in /opt/conda/lib/python3.8/site-packages (from selenium->-r requirements.txt (line 8)) (0.9.2)\n",
      "Requirement already satisfied: pyyaml in /opt/conda/lib/python3.8/site-packages (from accelerate->-r requirements.txt (line 9)) (5.4.1)\n",
      "Requirement already satisfied: protobuf>=3.12.0 in /opt/conda/lib/python3.8/site-packages (from wandb->-r requirements.txt (line 10)) (3.19.4)\n",
      "Requirement already satisfied: python-dateutil>=2.6.1 in /opt/conda/lib/python3.8/site-packages (from wandb->-r requirements.txt (line 10)) (2.8.2)\n",
      "Requirement already satisfied: pathtools in /opt/conda/lib/python3.8/site-packages (from wandb->-r requirements.txt (line 10)) (0.1.2)\n",
      "Requirement already satisfied: six>=1.13.0 in /opt/conda/lib/python3.8/site-packages (from wandb->-r requirements.txt (line 10)) (1.16.0)\n",
      "Requirement already satisfied: psutil>=5.0.0 in /opt/conda/lib/python3.8/site-packages (from wandb->-r requirements.txt (line 10)) (5.9.0)\n",
      "Requirement already satisfied: promise<3,>=2.0 in /opt/conda/lib/python3.8/site-packages (from wandb->-r requirements.txt (line 10)) (2.3)\n",
      "Requirement already satisfied: setproctitle in /opt/conda/lib/python3.8/site-packages (from wandb->-r requirements.txt (line 10)) (1.2.2)\n",
      "Requirement already satisfied: shortuuid>=0.5.0 in /opt/conda/lib/python3.8/site-packages (from wandb->-r requirements.txt (line 10)) (1.0.8)\n",
      "Requirement already satisfied: sentry-sdk>=1.0.0 in /opt/conda/lib/python3.8/site-packages (from wandb->-r requirements.txt (line 10)) (1.5.8)\n",
      "Requirement already satisfied: docker-pycreds>=0.4.0 in /opt/conda/lib/python3.8/site-packages (from wandb->-r requirements.txt (line 10)) (0.4.0)\n",
      "Requirement already satisfied: Click!=8.0.0,>=7.0 in /opt/conda/lib/python3.8/site-packages (from wandb->-r requirements.txt (line 10)) (8.0.3)\n",
      "Requirement already satisfied: GitPython>=1.0.0 in /opt/conda/lib/python3.8/site-packages (from wandb->-r requirements.txt (line 10)) (3.1.27)\n",
      "Requirement already satisfied: filelock in /opt/conda/lib/python3.8/site-packages (from huggingface-hub->-r requirements.txt (line 11)) (3.4.2)\n",
      "Requirement already satisfied: gitdb<5,>=4.0.1 in /opt/conda/lib/python3.8/site-packages (from GitPython>=1.0.0->wandb->-r requirements.txt (line 10)) (4.0.9)\n",
      "Requirement already satisfied: smmap<6,>=3.0.1 in /opt/conda/lib/python3.8/site-packages (from gitdb<5,>=4.0.1->GitPython>=1.0.0->wandb->-r requirements.txt (line 10)) (5.0.0)\n",
      "Requirement already satisfied: pyparsing!=3.0.5,>=2.0.2 in /opt/conda/lib/python3.8/site-packages (from packaging->datasets->-r requirements.txt (line 3)) (3.0.7)\n",
      "Requirement already satisfied: sniffio in /opt/conda/lib/python3.8/site-packages (from trio~=0.17->selenium->-r requirements.txt (line 8)) (1.2.0)\n",
      "Requirement already satisfied: async-generator>=1.9 in /opt/conda/lib/python3.8/site-packages (from trio~=0.17->selenium->-r requirements.txt (line 8)) (1.10)\n",
      "Requirement already satisfied: outcome in /opt/conda/lib/python3.8/site-packages (from trio~=0.17->selenium->-r requirements.txt (line 8)) (1.1.0)\n",
      "Requirement already satisfied: sortedcontainers in /opt/conda/lib/python3.8/site-packages (from trio~=0.17->selenium->-r requirements.txt (line 8)) (2.4.0)\n",
      "Requirement already satisfied: wsproto>=0.14 in /opt/conda/lib/python3.8/site-packages (from trio-websocket~=0.9->selenium->-r requirements.txt (line 8)) (1.1.0)\n",
      "Requirement already satisfied: PySocks!=1.5.7,<2.0,>=1.5.6 in /opt/conda/lib/python3.8/site-packages (from urllib3<1.27,>=1.21.1->requests->-r requirements.txt (line 5)) (1.7.1)\n",
      "Requirement already satisfied: cryptography>=1.3.4 in /opt/conda/lib/python3.8/site-packages (from urllib3<1.27,>=1.21.1->requests->-r requirements.txt (line 5)) (36.0.1)\n",
      "Requirement already satisfied: pyOpenSSL>=0.14 in /opt/conda/lib/python3.8/site-packages (from urllib3<1.27,>=1.21.1->requests->-r requirements.txt (line 5)) (21.0.0)\n",
      "Requirement already satisfied: cffi>=1.12 in /opt/conda/lib/python3.8/site-packages (from cryptography>=1.3.4->urllib3<1.27,>=1.21.1->requests->-r requirements.txt (line 5)) (1.15.0)\n",
      "Requirement already satisfied: pycparser in /opt/conda/lib/python3.8/site-packages (from cffi>=1.12->cryptography>=1.3.4->urllib3<1.27,>=1.21.1->requests->-r requirements.txt (line 5)) (2.21)\n",
      "Requirement already satisfied: h11<1,>=0.9.0 in /opt/conda/lib/python3.8/site-packages (from wsproto>=0.14->trio-websocket~=0.9->selenium->-r requirements.txt (line 8)) (0.13.0)\n",
      "Requirement already satisfied: pytz>=2017.3 in /opt/conda/lib/python3.8/site-packages (from pandas->datasets->-r requirements.txt (line 3)) (2021.3)\n",
      "\u001B[33mWARNING: Running pip as the 'root' user can result in broken permissions and conflicting behaviour with the system package manager. It is recommended to use a virtual environment instead: https://pip.pypa.io/warnings/venv\u001B[0m\n"
     ]
    }
   ],
   "source": [
    "!pip install -r requirements.txt"
   ]
  },
  {
   "cell_type": "code",
   "execution_count": 40,
   "id": "69a75b46-7128-4945-a59f-7f5cf989cc2e",
   "metadata": {
    "execution": {
     "iopub.execute_input": "2022-04-10T10:30:35.919516Z",
     "iopub.status.busy": "2022-04-10T10:30:35.918906Z",
     "iopub.status.idle": "2022-04-10T10:30:35.922691Z",
     "shell.execute_reply": "2022-04-10T10:30:35.922152Z",
     "shell.execute_reply.started": "2022-04-10T10:30:35.919487Z"
    }
   },
   "outputs": [],
   "source": [
    "import os\n",
    "os.environ['WANDB_API_KEY'] = '15f2e48c1a90469a539fd5c91c25b5f04f4f3c66'"
   ]
  },
  {
   "cell_type": "code",
   "execution_count": 41,
   "id": "eb71b4b0-5c84-43dd-a1dd-cc422c23ccd6",
   "metadata": {
    "execution": {
     "iopub.execute_input": "2022-04-10T10:30:35.923656Z",
     "iopub.status.busy": "2022-04-10T10:30:35.923489Z",
     "iopub.status.idle": "2022-04-10T10:30:36.875259Z",
     "shell.execute_reply": "2022-04-10T10:30:36.874412Z",
     "shell.execute_reply.started": "2022-04-10T10:30:35.923637Z"
    }
   },
   "outputs": [
    {
     "name": "stderr",
     "output_type": "stream",
     "text": [
      "/opt/conda/lib/python3.8/site-packages/huggingface_hub/hf_api.py:507: FutureWarning: HfApi.login: This method is deprecated in favor of `set_access_token` and will be removed in v0.7.\n",
      "  warnings.warn(\n"
     ]
    }
   ],
   "source": [
    "#@title Log in with huggingnft-app\n",
    "from huggingface_hub.hf_api import HfApi\n",
    "hfapi = HfApi()\n",
    "user, namespace = 'huggingnft-app', 'huggingNFT2022'\n",
    "token = hfapi.login(user, namespace)\n",
    "assert hfapi.whoami(token)['name'] == user, \"Could not log into Hugging Face\"\n",
    "!mkdir /root/.huggingface -p\n",
    "text_file = open(\"/root/.huggingface/token\", \"w+\")\n",
    "text_file.write(token)\n",
    "text_file.close() \n"
   ]
  },
  {
   "cell_type": "code",
   "execution_count": 42,
   "id": "292b3e98-352b-475f-868e-4762f654d53e",
   "metadata": {
    "execution": {
     "iopub.execute_input": "2022-04-10T10:30:36.877170Z",
     "iopub.status.busy": "2022-04-10T10:30:36.876919Z",
     "iopub.status.idle": "2022-04-10T10:30:40.436199Z",
     "shell.execute_reply": "2022-04-10T10:30:40.435447Z",
     "shell.execute_reply.started": "2022-04-10T10:30:36.877089Z"
    }
   },
   "outputs": [
    {
     "name": "stdout",
     "output_type": "stream",
     "text": [
      "Reading package lists... Done\n",
      "Building dependency tree       \n",
      "Reading state information... Done\n",
      "git-lfs is already the newest version (2.9.2-1).\n",
      "0 upgraded, 0 newly installed, 0 to remove and 14 not upgraded.\n"
     ]
    }
   ],
   "source": [
    "#@title Install git-lfs\n",
    "!apt-get install git-lfs\n",
    "!git config --global user.email \"ale-kor02@mail.ru\"\n",
    "!git config --global user.name \"Aleksey Korshuk\""
   ]
  },
  {
   "cell_type": "code",
   "execution_count": 43,
   "id": "859d26a2-ed6b-4b07-8745-7fb322cf3c9c",
   "metadata": {
    "execution": {
     "iopub.execute_input": "2022-04-10T10:30:40.438182Z",
     "iopub.status.busy": "2022-04-10T10:30:40.437489Z",
     "iopub.status.idle": "2022-04-10T10:30:40.441154Z",
     "shell.execute_reply": "2022-04-10T10:30:40.440684Z",
     "shell.execute_reply.started": "2022-04-10T10:30:40.438152Z"
    }
   },
   "outputs": [],
   "source": [
    "name = \"trippytoadznft\""
   ]
  },
  {
   "cell_type": "code",
   "execution_count": null,
   "id": "11c7e88d-9ede-4e4d-ba51-117c3978505f",
   "metadata": {
    "execution": {
     "iopub.execute_input": "2022-04-10T10:32:58.622970Z",
     "iopub.status.busy": "2022-04-10T10:32:58.622242Z"
    },
    "pycharm": {
     "is_executing": true
    }
   },
   "outputs": [],
   "source": [
    "!python models/sngan/train.py --wandb --logging_steps 10 --batch_size 16 --num_epochs 2000 --dataset huggingnft/$name --push_to_hub --model_name $name --organization_name huggingnft"
   ]
  }
 ],
 "metadata": {
  "kernelspec": {
   "display_name": "Python 3 (ipykernel)",
   "language": "python",
   "name": "python3"
  },
  "language_info": {
   "codemirror_mode": {
    "name": "ipython",
    "version": 3
   },
   "file_extension": ".py",
   "mimetype": "text/x-python",
   "name": "python",
   "nbconvert_exporter": "python",
   "pygments_lexer": "ipython3",
   "version": "3.8.12"
  }
 },
 "nbformat": 4,
 "nbformat_minor": 5
}