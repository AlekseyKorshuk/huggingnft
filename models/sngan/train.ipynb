{
  "cells": [
    {
      "cell_type": "markdown",
      "source": [
        "# Hugging NFT\n",
        "\n",
        "Train your model to generate NFT by OpenSea collection name.\n",
        "\n",
        "[![GitHub stars](https://img.shields.io/github/stars/AlekseyKorshuk/huggingnft?style=social)](https://github.com/AlekseyKorshuk/huggingnft)\n"
      ],
      "metadata": {
        "id": "NSI2Om7y-CuF"
      },
      "id": "NSI2Om7y-CuF"
    },
    {
      "cell_type": "code",
      "execution_count": null,
      "id": "dc6dd01a-e6f6-4ea5-928a-6d3d463ecc65",
      "metadata": {
        "execution": {
          "iopub.execute_input": "2022-04-10T10:30:29.515493Z",
          "iopub.status.busy": "2022-04-10T10:30:29.514895Z",
          "iopub.status.idle": "2022-04-10T10:30:32.540723Z",
          "shell.execute_reply": "2022-04-10T10:30:32.540006Z",
          "shell.execute_reply.started": "2022-04-10T10:30:29.515462Z"
        },
        "cellView": "form",
        "id": "dc6dd01a-e6f6-4ea5-928a-6d3d463ecc65"
      },
      "outputs": [],
      "source": [
        "#@title Install requirements\n",
        "%%capture\n",
        "%cd /content/\n",
        "!rm -rf huggingnft\n",
        "!git clone https://github.com/AlekseyKorshuk/huggingnft\n",
        "%cd huggingnft\n",
        "!pip install -r requirements.txt"
      ]
    },
    {
      "cell_type": "code",
      "execution_count": null,
      "id": "69a75b46-7128-4945-a59f-7f5cf989cc2e",
      "metadata": {
        "execution": {
          "iopub.execute_input": "2022-04-10T10:30:35.919516Z",
          "iopub.status.busy": "2022-04-10T10:30:35.918906Z",
          "iopub.status.idle": "2022-04-10T10:30:35.922691Z",
          "shell.execute_reply": "2022-04-10T10:30:35.922152Z",
          "shell.execute_reply.started": "2022-04-10T10:30:35.919487Z"
        },
        "cellView": "form",
        "id": "69a75b46-7128-4945-a59f-7f5cf989cc2e"
      },
      "outputs": [],
      "source": [
        "#@title Set your WANDB_API_KEY from [here](https://wandb.ai/authorize)\n",
        "WANDB_API_KEY = \"\" #@param {type:\"string\"}\n",
        "import os\n",
        "os.environ['WANDB_API_KEY'] = WANDB_API_KEY"
      ]
    },
    {
      "cell_type": "code",
      "execution_count": null,
      "id": "eb71b4b0-5c84-43dd-a1dd-cc422c23ccd6",
      "metadata": {
        "execution": {
          "iopub.execute_input": "2022-04-10T10:30:35.923656Z",
          "iopub.status.busy": "2022-04-10T10:30:35.923489Z",
          "iopub.status.idle": "2022-04-10T10:30:36.875259Z",
          "shell.execute_reply": "2022-04-10T10:30:36.874412Z",
          "shell.execute_reply.started": "2022-04-10T10:30:35.923637Z"
        },
        "cellView": "form",
        "id": "eb71b4b0-5c84-43dd-a1dd-cc422c23ccd6"
      },
      "outputs": [],
      "source": [
        "#@title Log in with huggingnft-app\n",
        "from huggingface_hub.hf_api import HfApi\n",
        "hfapi = HfApi()\n",
        "user, namespace = 'huggingnft-app', 'huggingNFT2022'\n",
        "token = hfapi.login(user, namespace)\n",
        "assert hfapi.whoami(token)['name'] == user, \"Could not log into Hugging Face\"\n",
        "!mkdir /root/.huggingface -p\n",
        "text_file = open(\"/root/.huggingface/token\", \"w+\")\n",
        "text_file.write(token)\n",
        "text_file.close() \n"
      ]
    },
    {
      "cell_type": "code",
      "execution_count": null,
      "id": "292b3e98-352b-475f-868e-4762f654d53e",
      "metadata": {
        "execution": {
          "iopub.execute_input": "2022-04-10T10:30:36.877170Z",
          "iopub.status.busy": "2022-04-10T10:30:36.876919Z",
          "iopub.status.idle": "2022-04-10T10:30:40.436199Z",
          "shell.execute_reply": "2022-04-10T10:30:40.435447Z",
          "shell.execute_reply.started": "2022-04-10T10:30:36.877089Z"
        },
        "cellView": "form",
        "id": "292b3e98-352b-475f-868e-4762f654d53e"
      },
      "outputs": [],
      "source": [
        "#@title Install git-lfs\n",
        "!apt-get install git-lfs\n",
        "!git config --global user.email \"ale-kor02@mail.ru\"\n",
        "!git config --global user.name \"Aleksey Korshuk\""
      ]
    },
    {
      "cell_type": "code",
      "execution_count": null,
      "id": "859d26a2-ed6b-4b07-8745-7fb322cf3c9c",
      "metadata": {
        "execution": {
          "iopub.execute_input": "2022-04-10T10:30:40.438182Z",
          "iopub.status.busy": "2022-04-10T10:30:40.437489Z",
          "iopub.status.idle": "2022-04-10T10:30:40.441154Z",
          "shell.execute_reply": "2022-04-10T10:30:40.440684Z",
          "shell.execute_reply.started": "2022-04-10T10:30:40.438152Z"
        },
        "cellView": "form",
        "id": "859d26a2-ed6b-4b07-8745-7fb322cf3c9c"
      },
      "outputs": [],
      "source": [
        "#@title Choose collection name from available datasets: [here](https://huggingface.co/huggingnft)\n",
        "#@markdown ‼️ DO NOT retrain other models if you not guaranty better results! Only add not existing!\n",
        "name = \"\" #@param {type:\"string\"}"
      ]
    },
    {
      "cell_type": "code",
      "execution_count": null,
      "id": "11c7e88d-9ede-4e4d-ba51-117c3978505f",
      "metadata": {
        "execution": {
          "iopub.execute_input": "2022-04-10T10:32:58.622970Z",
          "iopub.status.busy": "2022-04-10T10:32:58.622242Z"
        },
        "pycharm": {
          "is_executing": true
        },
        "cellView": "form",
        "id": "11c7e88d-9ede-4e4d-ba51-117c3978505f"
      },
      "outputs": [],
      "source": [
        "#@title Train model\n",
        "num_epochs = 2500 #@param {type:\"integer\"}\n",
        "!python models/sngan/train.py --wandb --logging_steps 10 --batch_size 16 --num_epochs $num_epochs --dataset huggingnft/$name --push_to_hub --model_name $name --organization_name huggingnft"
      ]
    }
  ],
  "metadata": {
    "kernelspec": {
      "display_name": "Python 3 (ipykernel)",
      "language": "python",
      "name": "python3"
    },
    "language_info": {
      "codemirror_mode": {
        "name": "ipython",
        "version": 3
      },
      "file_extension": ".py",
      "mimetype": "text/x-python",
      "name": "python",
      "nbconvert_exporter": "python",
      "pygments_lexer": "ipython3",
      "version": "3.8.12"
    },
    "colab": {
      "name": "train.ipynb",
      "provenance": []
    }
  },
  "nbformat": 4,
  "nbformat_minor": 5
}